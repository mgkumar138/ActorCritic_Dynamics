{
 "cells": [
  {
   "cell_type": "code",
   "execution_count": 1,
   "metadata": {},
   "outputs": [],
   "source": [
    "# code from https://github.com/Pehlevan-Group/TD-RL-dynamics/blob/main/TD_dynamics_theory_curves.ipynb\n",
    "# to understand theory"
   ]
  },
  {
   "cell_type": "code",
   "execution_count": 2,
   "metadata": {},
   "outputs": [],
   "source": [
    "import numpy as np\n",
    "import matplotlib.pyplot as plt\n",
    "import sys\n",
    "import jax.numpy as jnp\n",
    "from jax import random, lax, vmap\n",
    "import jax\n",
    "#jax.config.update(\"jax_enable_x64\", True)"
   ]
  },
  {
   "cell_type": "code",
   "execution_count": 3,
   "metadata": {},
   "outputs": [],
   "source": [
    "def sqrt_mat(A):\n",
    "    s, v = jnp.linalg.eigh(A)\n",
    "    s_sqrt = s**(0.5) * (s>0.0)\n",
    "    return v @ jnp.diag(s_sqrt) @ v.T "
   ]
  },
  {
   "cell_type": "code",
   "execution_count": 4,
   "metadata": {},
   "outputs": [],
   "source": [
    "# define MDP for random exploration\n",
    "box_len = 21\n",
    "# take in (x,y) coordinate and output new (x',y')\n",
    "def update_fn(coord_key,x):\n",
    "    coord, key = coord_key\n",
    "    key_x, key_y,key_filt = random.split(key,3)\n",
    "    x, y = coord\n",
    "    \n",
    "    dx = 2 * random.choice(key_x, 2) -1 # dx in {-1,1}\n",
    "    dy = 2 * random.choice(key_y, 2) -1 # dx in {-1,1}\n",
    "    \n",
    "    filt = random.choice(key_filt, 2) # update only x or y but not both!\n",
    "    new_key,_ = random.split(key_x)\n",
    "    new_x = x + filt * dx\n",
    "    new_y = y + (1-filt)*dy\n",
    "    \n",
    "    # now map to boundary, takes care of edge case\n",
    "    new_x = (new_x>=box_len)*(x-1) + (new_x<0)*(x+1) + new_x *(new_x<box_len)*(new_x>=0)\n",
    "    new_y = (new_y>=box_len)*(y-1) + (new_y<0)*(y+1) + new_y *(new_y<box_len)*(new_y>=0)\n",
    "\n",
    "    new_coord = [ new_x, new_y ]\n",
    "    return [new_coord, new_key], coord"
   ]
  },
  {
   "cell_type": "code",
   "execution_count": 5,
   "metadata": {},
   "outputs": [
    {
     "name": "stderr",
     "output_type": "stream",
     "text": [
      "2023-11-16 17:30:47.735596: W pjrt_plugin/src/mps_client.cc:535] WARNING: JAX Apple GPU support is experimental and not all JAX functionality is correctly supported!\n"
     ]
    },
    {
     "name": "stdout",
     "output_type": "stream",
     "text": [
      "Metal device set to: Apple M2 Pro\n",
      "\n",
      "systemMemory: 16.00 GB\n",
      "maxCacheSize: 5.33 GB\n",
      "\n"
     ]
    }
   ],
   "source": [
    "_,coords = lax.scan(update_fn, [[box_len//2,box_len//2], random.PRNGKey(0)], None, length = 50)"
   ]
  },
  {
   "cell_type": "code",
   "execution_count": 6,
   "metadata": {},
   "outputs": [],
   "source": [
    "num_samples = 10\n",
    "get_coords = lambda seed: lax.scan(update_fn, [[box_len//2,box_len//2], random.PRNGKey(seed)], None, length = 100)[1]\n",
    "all_coords = vmap(get_coords)(jnp.arange(num_samples))"
   ]
  },
  {
   "cell_type": "code",
   "execution_count": 7,
   "metadata": {},
   "outputs": [
    {
     "data": {
      "image/png": "[encoded data removed]",
      "text/plain": [
       "<Figure size 640x480 with 1 Axes>"
      ]
     },
     "metadata": {},
     "output_type": "display_data"
    }
   ],
   "source": [
    "plt.figure()\n",
    "for i in range(num_samples):\n",
    "    plt.plot(all_coords[0][i,:],all_coords[1][i,:])\n",
    "plt.xticks([])\n",
    "plt.yticks([])\n",
    "plt.title('Example Trajectories',fontsize = 20)\n",
    "plt.gca().set_aspect('equal')\n",
    "plt.tight_layout()\n",
    "#plt.savefig('figures/explore_2d_mdp.pdf', bbox_inches = 'tight')\n",
    "plt.show()"
   ]
  },
  {
   "cell_type": "code",
   "execution_count": 8,
   "metadata": {},
   "outputs": [],
   "source": [
    "def compute_transition_mat():\n",
    "    Pi = np.zeros((box_len, box_len, box_len, box_len)) # (x,y), (x',y') is probability of going (x',y')->(x,y)\n",
    "    \n",
    "    # bulk: simple transition\n",
    "    for i in range(1,box_len-1):\n",
    "        for j in range(1,box_len-1):\n",
    "            Pi[i+1,j,i,j] = 0.25\n",
    "            Pi[i-1,j,i,j] = 0.25\n",
    "            Pi[i,j-1,i,j] = 0.25\n",
    "            Pi[i,j+1,i,j] = 0.25\n",
    "    \n",
    "    bm = box_len-1\n",
    "    # edge conditions: bounce-back condition\n",
    "    for i in range(1, box_len-1):\n",
    "        Pi[1,i,0,i] = 0.5\n",
    "        Pi[0,i+1,0,i] = 0.25\n",
    "        Pi[0,i-1,0,i] = 0.25\n",
    "        \n",
    "        Pi[i,1,i,0] = 0.5\n",
    "        Pi[i+1,0,i,0]=0.25\n",
    "        Pi[i-1,0,i,0] =0.25\n",
    "        \n",
    "        Pi[bm-1,i,bm,i] = 0.5\n",
    "        Pi[bm,i+1,bm,i] = 0.25\n",
    "        Pi[bm,i-1,bm,i] = 0.25\n",
    "        \n",
    "        Pi[i,bm-1,i,bm] = 0.5\n",
    "        Pi[i+1,bm,i,bm] = 0.25\n",
    "        Pi[i-1,bm,i,bm] = 0.25\n",
    "    \n",
    "    # corner conditions\n",
    "    Pi[0,1,0,0] = 0.5\n",
    "    Pi[1,0,0,0] = 0.5\n",
    "    \n",
    "    Pi[bm,1,bm,0] = 0.5\n",
    "    Pi[bm-1,0,bm,0] = 0.5\n",
    "    \n",
    "    Pi[1,bm,0,bm] = 0.5\n",
    "    Pi[0,bm-1,0,bm] = 0.5\n",
    "    \n",
    "    Pi[bm-1,bm,bm,bm] = 0.5\n",
    "    Pi[bm,bm-1,bm,bm] = 0.5\n",
    "    return Pi"
   ]
  },
  {
   "cell_type": "code",
   "execution_count": 9,
   "metadata": {},
   "outputs": [
    {
     "name": "stdout",
     "output_type": "stream",
     "text": [
      "(21, 21, 21, 21)\n",
      "[[0.  0.5 0.  0.  0. ]\n",
      " [0.5 0.  0.  0.  0. ]\n",
      " [0.  0.  0.  0.  0. ]\n",
      " [0.  0.  0.  0.  0. ]\n",
      " [0.  0.  0.  0.  0. ]]\n",
      "[[0.   0.   0.   0.   0.  ]\n",
      " [0.   0.   0.25 0.   0.  ]\n",
      " [0.   0.25 0.   0.25 0.  ]\n",
      " [0.   0.   0.25 0.   0.  ]\n",
      " [0.   0.   0.   0.   0.  ]]\n"
     ]
    }
   ],
   "source": [
    "Pi = compute_transition_mat()\n",
    "Pi = jnp.array(Pi)\n",
    "print(Pi.shape)\n",
    "print(Pi[:5,:5,0,0])\n",
    "print(Pi[:5,:5,2,2])"
   ]
  },
  {
   "cell_type": "code",
   "execution_count": 10,
   "metadata": {},
   "outputs": [],
   "source": [
    "# compute two_point probability P(s_t= s, s_{t'} = s')\n",
    "T = 50\n",
    "\n",
    "powers_of_Pi = []\n",
    "Pit = 1.0 * jnp.einsum('ik,jl->ijkl', jnp.eye(box_len), jnp.eye(box_len)) # identity map base case Pi^0\n",
    "for t in range(T):\n",
    "    powers_of_Pi += [ Pit  ]\n",
    "    Pit = jnp.einsum('ijkl,klnm->ijnm',Pi, Pit)"
   ]
  },
  {
   "cell_type": "code",
   "execution_count": 11,
   "metadata": {},
   "outputs": [
    {
     "name": "stdout",
     "output_type": "stream",
     "text": [
      "(441, 21, 21)\n",
      "(21, 21)\n",
      "441\n"
     ]
    }
   ],
   "source": [
    "# compute r_i[x,y] the neural code\n",
    "# we will use a place cell code\n",
    "def construct_code(sigma=2.5):\n",
    "    N = box_len**2\n",
    "    R = np.zeros((N,box_len,box_len))\n",
    "    grid = np.linspace(0,box_len-1,box_len)\n",
    "    for i in range(box_len):\n",
    "        for j in range(box_len):\n",
    "            dx2 = (grid - i)**2\n",
    "            dy2 = (grid - j)**2\n",
    "            dist = dx2[:,np.newaxis] + dy2[np.newaxis,:]\n",
    "            R[i*box_len + j,:,:] = np.exp(-0.5 * dist/sigma**2)\n",
    "    \n",
    "    return R - R.mean(axis = (1,2))[:,np.newaxis,np.newaxis]\n",
    "\n",
    "def construct_code_from_K(sigma=2.5):\n",
    "    \n",
    "    K = np.zeros((box_len, box_len, box_len, box_len))\n",
    "    grid = np.linspace(0,box_len-1,box_len)\n",
    "    for i in range(box_len):\n",
    "        for j in range(box_len):\n",
    "            dx2 = (grid - i)**2\n",
    "            dy2 = (grid - j)**2\n",
    "            dist = dx2[:,np.newaxis] + dy2[np.newaxis,:]\n",
    "            K[i,j,:,:] = np.exp(-0.5/sigma**2 * dist )\n",
    "    \n",
    "    K_flat = K.reshape((K.shape[0]**2, K.shape[2]**2))\n",
    "    s, v = jnp.linalg.eigh(K_flat)\n",
    "    s = s * (s > 0.0 )\n",
    "    indsort = jnp.argsort(s)[::-1]\n",
    "    s = s[indsort]\n",
    "    v = v[:,indsort]\n",
    "    Psi_flat = jnp.diag(jnp.sqrt(s)) @ v.T # neurons x space\n",
    "    Psi = Psi_flat.reshape((Psi_flat.shape[0], K.shape[2], K.shape[3]))\n",
    "    return Psi\n",
    "\n",
    "\n",
    "\n",
    "def construct_target_fn(sigma=2.5, dist_mult=1):\n",
    "    \n",
    "    R = np.zeros((box_len,box_len))\n",
    "    grid = np.linspace(0,box_len-1,box_len)\n",
    "    i = box_len//2 + dist_mult*box_len//5\n",
    "    j = box_len//2 + dist_mult*box_len//5\n",
    "\n",
    "    dx2 = (grid - i)**2\n",
    "    dy2 = (grid - j)**2\n",
    "    dist = dx2[:,np.newaxis] + dy2[np.newaxis,:]\n",
    "    R = np.exp(-0.5 * dist/sigma**2)\n",
    "    return R - R.mean()\n",
    "\n",
    "Psi = construct_code()\n",
    "#Psi = construct_code_from_K()\n",
    "N = Psi.shape[0]\n",
    "R = construct_target_fn()\n",
    "\n",
    "print(Psi.shape)\n",
    "print(R.shape)\n",
    "print(N)"
   ]
  },
  {
   "cell_type": "code",
   "execution_count": 12,
   "metadata": {},
   "outputs": [
    {
     "data": {
      "text/plain": [
       "<matplotlib.colorbar.Colorbar at 0x14bc0b400>"
      ]
     },
     "execution_count": 12,
     "metadata": {},
     "output_type": "execute_result"
    },
    {
     "data": {
      "image/png": "[encoded data removed]",
      "text/plain": [
       "<Figure size 640x480 with 4 Axes>"
      ]
     },
     "metadata": {},
     "output_type": "display_data"
    }
   ],
   "source": [
    "plt.figure()\n",
    "plt.subplot(121)\n",
    "plt.imshow(Psi[220])\n",
    "plt.colorbar()\n",
    "\n",
    "plt.subplot(122)\n",
    "plt.imshow(R)\n",
    "plt.colorbar()\n"
   ]
  },
  {
   "cell_type": "code",
   "execution_count": 13,
   "metadata": {},
   "outputs": [
    {
     "data": {
      "image/png": "[encoded data removed]",
      "text/plain": [
       "<Figure size 640x480 with 1 Axes>"
      ]
     },
     "metadata": {},
     "output_type": "display_data"
    }
   ],
   "source": [
    "plt.figure()\n",
    "R_plot = construct_target_fn(sigma = 1.5)\n",
    "R_plot2 = np.zeros(R_plot.shape)\n",
    "for i in range(R_plot.shape[0]):\n",
    "    for j in range(R_plot.shape[1]):\n",
    "        if R_plot[i,j] > 0.0:\n",
    "            R_plot2[i,j] = R_plot[i,j]\n",
    "        else:\n",
    "            R_plot2[i,j] = np.nan\n",
    "\n",
    "plt.contourf(R_plot2,cmap='Reds')\n",
    "for i in range(num_samples):\n",
    "    plt.plot(all_coords[0][i,:],all_coords[1][i,:])\n",
    "#R_plot = R * (R>0.0) \n",
    "\n",
    "plt.xticks([])\n",
    "plt.yticks([])\n",
    "plt.title('Example Trajectories',fontsize = 20)\n",
    "plt.tight_layout()\n",
    "#plt.savefig('figures/explore_2d_mdp_w_reward.pdf', bbox_inches = 'tight')\n",
    "plt.show()"
   ]
  },
  {
   "cell_type": "code",
   "execution_count": 14,
   "metadata": {},
   "outputs": [],
   "source": [
    "samples = 5200\n",
    "T = 51\n",
    "get_coords = lambda seed: lax.scan(update_fn, [[box_len//2,box_len//2], random.PRNGKey(seed)], None, length = T)[1]\n",
    "all_coords = vmap(get_coords)(jnp.arange(samples))"
   ]
  },
  {
   "cell_type": "code",
   "execution_count": 15,
   "metadata": {},
   "outputs": [
    {
     "name": "stdout",
     "output_type": "stream",
     "text": [
      "(5200, 51)\n",
      "(5200, 51)\n",
      "(441, 5200, 51)\n",
      "(441, 21, 21)\n"
     ]
    }
   ],
   "source": [
    "print( all_coords[0].shape)\n",
    "print(all_coords[1].shape )\n",
    "Psi_visits = Psi[:,all_coords[0],all_coords[1]] # should be like N x samples x T\n",
    "print(Psi_visits.shape)\n",
    "print(Psi.shape)"
   ]
  },
  {
   "cell_type": "code",
   "execution_count": 17,
   "metadata": {},
   "outputs": [
    {
     "name": "stdout",
     "output_type": "stream",
     "text": [
      "float32\n"
     ]
    },
    {
     "ename": "NotImplementedError",
     "evalue": "MLIR translation rule for primitive 'eigh' not found for platform METAL",
     "output_type": "error",
     "traceback": [
      "\u001b[0;31m---------------------------------------------------------------------------\u001b[0m",
      "\u001b[0;31mJaxStackTraceBeforeTransformation\u001b[0m         Traceback (most recent call last)",
      "File \u001b[0;32m~/miniforge3/envs/control/lib/python3.8/runpy.py:194\u001b[0m, in \u001b[0;36m_run_module_as_main\u001b[0;34m(***failed resolving arguments***)\u001b[0m\n\u001b[1;32m    193\u001b[0m     sys\u001b[39m.\u001b[39margv[\u001b[39m0\u001b[39m] \u001b[39m=\u001b[39m mod_spec\u001b[39m.\u001b[39morigin\n\u001b[0;32m--> 194\u001b[0m \u001b[39mreturn\u001b[39;00m _run_code(code, main_globals, \u001b[39mNone\u001b[39;00m,\n\u001b[1;32m    195\u001b[0m                  \u001b[39m\"\u001b[39m\u001b[39m__main__\u001b[39m\u001b[39m\"\u001b[39m, mod_spec)\n",
      "File \u001b[0;32m~/miniforge3/envs/control/lib/python3.8/runpy.py:87\u001b[0m, in \u001b[0;36m_run_code\u001b[0;34m(***failed resolving arguments***)\u001b[0m\n\u001b[1;32m     80\u001b[0m run_globals\u001b[39m.\u001b[39mupdate(\u001b[39m__name__\u001b[39m \u001b[39m=\u001b[39m mod_name,\n\u001b[1;32m     81\u001b[0m                    \u001b[39m__file__\u001b[39m \u001b[39m=\u001b[39m fname,\n\u001b[1;32m     82\u001b[0m                    __cached__ \u001b[39m=\u001b[39m cached,\n\u001b[0;32m   (...)\u001b[0m\n\u001b[1;32m     85\u001b[0m                    __package__ \u001b[39m=\u001b[39m pkg_name,\n\u001b[1;32m     86\u001b[0m                    __spec__ \u001b[39m=\u001b[39m mod_spec)\n\u001b[0;32m---> 87\u001b[0m exec(code, run_globals)\n\u001b[1;32m     88\u001b[0m \u001b[39mreturn\u001b[39;00m run_globals\n",
      "File \u001b[0;32m~/miniforge3/envs/control/lib/python3.8/site-packages/ipykernel_launcher.py:17\u001b[0m\n\u001b[1;32m     15\u001b[0m \u001b[39mfrom\u001b[39;00m \u001b[39mipykernel\u001b[39;00m \u001b[39mimport\u001b[39;00m kernelapp \u001b[39mas\u001b[39;00m app\n\u001b[0;32m---> 17\u001b[0m app\u001b[39m.\u001b[39mlaunch_new_instance()\n",
      "File \u001b[0;32m~/miniforge3/envs/control/lib/python3.8/site-packages/traitlets/config/application.py:1053\u001b[0m, in \u001b[0;36mApplication.launch_instance\u001b[0;34m(***failed resolving arguments***)\u001b[0m\n\u001b[1;32m   1052\u001b[0m app\u001b[39m.\u001b[39minitialize(argv)\n\u001b[0;32m-> 1053\u001b[0m app\u001b[39m.\u001b[39mstart()\n",
      "File \u001b[0;32m~/miniforge3/envs/control/lib/python3.8/site-packages/ipykernel/kernelapp.py:737\u001b[0m, in \u001b[0;36mIPKernelApp.start\u001b[0;34m(***failed resolving arguments***)\u001b[0m\n\u001b[1;32m    736\u001b[0m \u001b[39mtry\u001b[39;00m:\n\u001b[0;32m--> 737\u001b[0m     \u001b[39mself\u001b[39m\u001b[39m.\u001b[39mio_loop\u001b[39m.\u001b[39mstart()\n\u001b[1;32m    738\u001b[0m \u001b[39mexcept\u001b[39;00m \u001b[39mKeyboardInterrupt\u001b[39;00m:\n",
      "File \u001b[0;32m~/miniforge3/envs/control/lib/python3.8/site-packages/tornado/platform/asyncio.py:195\u001b[0m, in \u001b[0;36mBaseAsyncIOLoop.start\u001b[0;34m(***failed resolving arguments***)\u001b[0m\n\u001b[1;32m    194\u001b[0m \u001b[39mdef\u001b[39;00m \u001b[39mstart\u001b[39m(\u001b[39mself\u001b[39m) \u001b[39m-\u001b[39m\u001b[39m>\u001b[39m \u001b[39mNone\u001b[39;00m:\n\u001b[0;32m--> 195\u001b[0m     \u001b[39mself\u001b[39m\u001b[39m.\u001b[39masyncio_loop\u001b[39m.\u001b[39mrun_forever()\n",
      "File \u001b[0;32m~/miniforge3/envs/control/lib/python3.8/asyncio/base_events.py:570\u001b[0m, in \u001b[0;36mBaseEventLoop.run_forever\u001b[0;34m(***failed resolving arguments***)\u001b[0m\n\u001b[1;32m    569\u001b[0m \u001b[39mwhile\u001b[39;00m \u001b[39mTrue\u001b[39;00m:\n\u001b[0;32m--> 570\u001b[0m     \u001b[39mself\u001b[39m\u001b[39m.\u001b[39m_run_once()\n\u001b[1;32m    571\u001b[0m     \u001b[39mif\u001b[39;00m \u001b[39mself\u001b[39m\u001b[39m.\u001b[39m_stopping:\n",
      "File \u001b[0;32m~/miniforge3/envs/control/lib/python3.8/asyncio/base_events.py:1859\u001b[0m, in \u001b[0;36mBaseEventLoop._run_once\u001b[0;34m(***failed resolving arguments***)\u001b[0m\n\u001b[1;32m   1858\u001b[0m     \u001b[39melse\u001b[39;00m:\n\u001b[0;32m-> 1859\u001b[0m         handle\u001b[39m.\u001b[39m_run()\n\u001b[1;32m   1860\u001b[0m handle \u001b[39m=\u001b[39m \u001b[39mNone\u001b[39;00m\n",
      "File \u001b[0;32m~/miniforge3/envs/control/lib/python3.8/asyncio/events.py:81\u001b[0m, in \u001b[0;36mHandle._run\u001b[0;34m(***failed resolving arguments***)\u001b[0m\n\u001b[1;32m     80\u001b[0m \u001b[39mtry\u001b[39;00m:\n\u001b[0;32m---> 81\u001b[0m     \u001b[39mself\u001b[39m\u001b[39m.\u001b[39m_context\u001b[39m.\u001b[39mrun(\u001b[39mself\u001b[39m\u001b[39m.\u001b[39m_callback, \u001b[39m*\u001b[39m\u001b[39mself\u001b[39m\u001b[39m.\u001b[39m_args)\n\u001b[1;32m     82\u001b[0m \u001b[39mexcept\u001b[39;00m (\u001b[39mSystemExit\u001b[39;00m, \u001b[39mKeyboardInterrupt\u001b[39;00m):\n",
      "File \u001b[0;32m~/miniforge3/envs/control/lib/python3.8/site-packages/ipykernel/kernelbase.py:524\u001b[0m, in \u001b[0;36mKernel.dispatch_queue\u001b[0;34m(***failed resolving arguments***)\u001b[0m\n\u001b[1;32m    523\u001b[0m \u001b[39mtry\u001b[39;00m:\n\u001b[0;32m--> 524\u001b[0m     \u001b[39mawait\u001b[39;00m \u001b[39mself\u001b[39m\u001b[39m.\u001b[39mprocess_one()\n\u001b[1;32m    525\u001b[0m \u001b[39mexcept\u001b[39;00m \u001b[39mException\u001b[39;00m:\n",
      "File \u001b[0;32m~/miniforge3/envs/control/lib/python3.8/site-packages/ipykernel/kernelbase.py:513\u001b[0m, in \u001b[0;36mKernel.process_one\u001b[0;34m(***failed resolving arguments***)\u001b[0m\n\u001b[1;32m    512\u001b[0m         \u001b[39mreturn\u001b[39;00m \u001b[39mNone\u001b[39;00m\n\u001b[0;32m--> 513\u001b[0m \u001b[39mawait\u001b[39;00m dispatch(\u001b[39m*\u001b[39margs)\n",
      "File \u001b[0;32m~/miniforge3/envs/control/lib/python3.8/site-packages/ipykernel/kernelbase.py:418\u001b[0m, in \u001b[0;36mKernel.dispatch_shell\u001b[0;34m(***failed resolving arguments***)\u001b[0m\n\u001b[1;32m    417\u001b[0m     \u001b[39mif\u001b[39;00m inspect\u001b[39m.\u001b[39misawaitable(result):\n\u001b[0;32m--> 418\u001b[0m         \u001b[39mawait\u001b[39;00m result\n\u001b[1;32m    419\u001b[0m \u001b[39mexcept\u001b[39;00m \u001b[39mException\u001b[39;00m:\n",
      "File \u001b[0;32m~/miniforge3/envs/control/lib/python3.8/site-packages/ipykernel/kernelbase.py:758\u001b[0m, in \u001b[0;36mKernel.execute_request\u001b[0;34m(***failed resolving arguments***)\u001b[0m\n\u001b[1;32m    757\u001b[0m \u001b[39mif\u001b[39;00m inspect\u001b[39m.\u001b[39misawaitable(reply_content):\n\u001b[0;32m--> 758\u001b[0m     reply_content \u001b[39m=\u001b[39m \u001b[39mawait\u001b[39;00m reply_content\n\u001b[1;32m    760\u001b[0m \u001b[39m# Flush output before sending the reply.\u001b[39;00m\n",
      "File \u001b[0;32m~/miniforge3/envs/control/lib/python3.8/site-packages/ipykernel/ipkernel.py:426\u001b[0m, in \u001b[0;36mIPythonKernel.do_execute\u001b[0;34m(***failed resolving arguments***)\u001b[0m\n\u001b[1;32m    425\u001b[0m \u001b[39mif\u001b[39;00m with_cell_id:\n\u001b[0;32m--> 426\u001b[0m     res \u001b[39m=\u001b[39m shell\u001b[39m.\u001b[39mrun_cell(\n\u001b[1;32m    427\u001b[0m         code,\n\u001b[1;32m    428\u001b[0m         store_history\u001b[39m=\u001b[39mstore_history,\n\u001b[1;32m    429\u001b[0m         silent\u001b[39m=\u001b[39msilent,\n\u001b[1;32m    430\u001b[0m         cell_id\u001b[39m=\u001b[39mcell_id,\n\u001b[1;32m    431\u001b[0m     )\n\u001b[1;32m    432\u001b[0m \u001b[39melse\u001b[39;00m:\n",
      "File \u001b[0;32m~/miniforge3/envs/control/lib/python3.8/site-packages/ipykernel/zmqshell.py:549\u001b[0m, in \u001b[0;36mZMQInteractiveShell.run_cell\u001b[0;34m(***failed resolving arguments***)\u001b[0m\n\u001b[1;32m    548\u001b[0m \u001b[39mself\u001b[39m\u001b[39m.\u001b[39m_last_traceback \u001b[39m=\u001b[39m \u001b[39mNone\u001b[39;00m\n\u001b[0;32m--> 549\u001b[0m \u001b[39mreturn\u001b[39;00m \u001b[39msuper\u001b[39m()\u001b[39m.\u001b[39mrun_cell(\u001b[39m*\u001b[39margs, \u001b[39m*\u001b[39m\u001b[39m*\u001b[39mkwargs)\n",
      "File \u001b[0;32m~/miniforge3/envs/control/lib/python3.8/site-packages/IPython/core/interactiveshell.py:3006\u001b[0m, in \u001b[0;36mInteractiveShell.run_cell\u001b[0;34m(***failed resolving arguments***)\u001b[0m\n\u001b[1;32m   3005\u001b[0m \u001b[39mtry\u001b[39;00m:\n\u001b[0;32m-> 3006\u001b[0m     result \u001b[39m=\u001b[39m \u001b[39mself\u001b[39m\u001b[39m.\u001b[39m_run_cell(\n\u001b[1;32m   3007\u001b[0m         raw_cell, store_history, silent, shell_futures, cell_id\n\u001b[1;32m   3008\u001b[0m     )\n\u001b[1;32m   3009\u001b[0m \u001b[39mfinally\u001b[39;00m:\n",
      "File \u001b[0;32m~/miniforge3/envs/control/lib/python3.8/site-packages/IPython/core/interactiveshell.py:3061\u001b[0m, in \u001b[0;36mInteractiveShell._run_cell\u001b[0;34m(***failed resolving arguments***)\u001b[0m\n\u001b[1;32m   3060\u001b[0m \u001b[39mtry\u001b[39;00m:\n\u001b[0;32m-> 3061\u001b[0m     result \u001b[39m=\u001b[39m runner(coro)\n\u001b[1;32m   3062\u001b[0m \u001b[39mexcept\u001b[39;00m \u001b[39mBaseException\u001b[39;00m \u001b[39mas\u001b[39;00m e:\n",
      "File \u001b[0;32m~/miniforge3/envs/control/lib/python3.8/site-packages/IPython/core/async_helpers.py:129\u001b[0m, in \u001b[0;36m_pseudo_sync_runner\u001b[0;34m(***failed resolving arguments***)\u001b[0m\n\u001b[1;32m    128\u001b[0m \u001b[39mtry\u001b[39;00m:\n\u001b[0;32m--> 129\u001b[0m     coro\u001b[39m.\u001b[39msend(\u001b[39mNone\u001b[39;00m)\n\u001b[1;32m    130\u001b[0m \u001b[39mexcept\u001b[39;00m \u001b[39mStopIteration\u001b[39;00m \u001b[39mas\u001b[39;00m exc:\n",
      "File \u001b[0;32m~/miniforge3/envs/control/lib/python3.8/site-packages/IPython/core/interactiveshell.py:3266\u001b[0m, in \u001b[0;36mInteractiveShell.run_cell_async\u001b[0;34m(***failed resolving arguments***)\u001b[0m\n\u001b[1;32m   3263\u001b[0m interactivity \u001b[39m=\u001b[39m \u001b[39m\"\u001b[39m\u001b[39mnone\u001b[39m\u001b[39m\"\u001b[39m \u001b[39mif\u001b[39;00m silent \u001b[39melse\u001b[39;00m \u001b[39mself\u001b[39m\u001b[39m.\u001b[39mast_node_interactivity\n\u001b[0;32m-> 3266\u001b[0m has_raised \u001b[39m=\u001b[39m \u001b[39mawait\u001b[39;00m \u001b[39mself\u001b[39m\u001b[39m.\u001b[39mrun_ast_nodes(code_ast\u001b[39m.\u001b[39mbody, cell_name,\n\u001b[1;32m   3267\u001b[0m        interactivity\u001b[39m=\u001b[39minteractivity, compiler\u001b[39m=\u001b[39mcompiler, result\u001b[39m=\u001b[39mresult)\n\u001b[1;32m   3269\u001b[0m \u001b[39mself\u001b[39m\u001b[39m.\u001b[39mlast_execution_succeeded \u001b[39m=\u001b[39m \u001b[39mnot\u001b[39;00m has_raised\n",
      "File \u001b[0;32m~/miniforge3/envs/control/lib/python3.8/site-packages/IPython/core/interactiveshell.py:3445\u001b[0m, in \u001b[0;36mInteractiveShell.run_ast_nodes\u001b[0;34m(***failed resolving arguments***)\u001b[0m\n\u001b[1;32m   3444\u001b[0m     asy \u001b[39m=\u001b[39m compare(code)\n\u001b[0;32m-> 3445\u001b[0m \u001b[39mif\u001b[39;00m \u001b[39mawait\u001b[39;00m \u001b[39mself\u001b[39m\u001b[39m.\u001b[39mrun_code(code, result, async_\u001b[39m=\u001b[39masy):\n\u001b[1;32m   3446\u001b[0m     \u001b[39mreturn\u001b[39;00m \u001b[39mTrue\u001b[39;00m\n",
      "File \u001b[0;32m~/miniforge3/envs/control/lib/python3.8/site-packages/IPython/core/interactiveshell.py:3505\u001b[0m, in \u001b[0;36mInteractiveShell.run_code\u001b[0;34m(***failed resolving arguments***)\u001b[0m\n\u001b[1;32m   3504\u001b[0m     \u001b[39melse\u001b[39;00m:\n\u001b[0;32m-> 3505\u001b[0m         exec(code_obj, \u001b[39mself\u001b[39m\u001b[39m.\u001b[39muser_global_ns, \u001b[39mself\u001b[39m\u001b[39m.\u001b[39muser_ns)\n\u001b[1;32m   3506\u001b[0m \u001b[39mfinally\u001b[39;00m:\n\u001b[1;32m   3507\u001b[0m     \u001b[39m# Reset our crash handler in place\u001b[39;00m\n",
      "\u001b[1;32m/Users/mganeshkumar/Library/CloudStorage/OneDrive-HarvardUniversity/Code/ActorCritic_Dynamics/blake_2023.ipynb Cell 16\u001b[0m line \u001b[0;36m5\n\u001b[1;32m      <a href='vscode-notebook-cell:/Users/mganeshkumar/Library/CloudStorage/OneDrive-HarvardUniversity/Code/ActorCritic_Dynamics/blake_2023.ipynb#X21sZmlsZQ%3D%3D?line=3'>4</a>\u001b[0m Sigma_flat \u001b[39m=\u001b[39m Sigma_emp\u001b[39m.\u001b[39mreshape((Sigma_emp\u001b[39m.\u001b[39mshape[\u001b[39m0\u001b[39m]\u001b[39m*\u001b[39mSigma_emp\u001b[39m.\u001b[39mshape[\u001b[39m1\u001b[39m], Sigma_emp\u001b[39m.\u001b[39mshape[\u001b[39m0\u001b[39m]\u001b[39m*\u001b[39mSigma_emp\u001b[39m.\u001b[39mshape[\u001b[39m1\u001b[39m]))\n\u001b[0;32m----> <a href='vscode-notebook-cell:/Users/mganeshkumar/Library/CloudStorage/OneDrive-HarvardUniversity/Code/ActorCritic_Dynamics/blake_2023.ipynb#X21sZmlsZQ%3D%3D?line=4'>5</a>\u001b[0m sqrt_Sigma \u001b[39m=\u001b[39m sqrt_mat(Sigma_flat)\n\u001b[1;32m      <a href='vscode-notebook-cell:/Users/mganeshkumar/Library/CloudStorage/OneDrive-HarvardUniversity/Code/ActorCritic_Dynamics/blake_2023.ipynb#X21sZmlsZQ%3D%3D?line=5'>6</a>\u001b[0m sqrt_Sigma\u001b[39m=\u001b[39m sqrt_Sigma\u001b[39m.\u001b[39mreshape(Sigma_emp\u001b[39m.\u001b[39mshape)\n",
      "\u001b[1;32m/Users/mganeshkumar/Library/CloudStorage/OneDrive-HarvardUniversity/Code/ActorCritic_Dynamics/blake_2023.ipynb Cell 16\u001b[0m line \u001b[0;36m2\n\u001b[1;32m      <a href='vscode-notebook-cell:/Users/mganeshkumar/Library/CloudStorage/OneDrive-HarvardUniversity/Code/ActorCritic_Dynamics/blake_2023.ipynb#X21sZmlsZQ%3D%3D?line=0'>1</a>\u001b[0m \u001b[39mdef\u001b[39;00m \u001b[39msqrt_mat\u001b[39m(A):\n\u001b[0;32m----> <a href='vscode-notebook-cell:/Users/mganeshkumar/Library/CloudStorage/OneDrive-HarvardUniversity/Code/ActorCritic_Dynamics/blake_2023.ipynb#X21sZmlsZQ%3D%3D?line=1'>2</a>\u001b[0m     s, v \u001b[39m=\u001b[39m jnp\u001b[39m.\u001b[39mlinalg\u001b[39m.\u001b[39meigh(A)\n\u001b[1;32m      <a href='vscode-notebook-cell:/Users/mganeshkumar/Library/CloudStorage/OneDrive-HarvardUniversity/Code/ActorCritic_Dynamics/blake_2023.ipynb#X21sZmlsZQ%3D%3D?line=2'>3</a>\u001b[0m     s_sqrt \u001b[39m=\u001b[39m s\u001b[39m*\u001b[39m\u001b[39m*\u001b[39m(\u001b[39m0.5\u001b[39m) \u001b[39m*\u001b[39m (s\u001b[39m>\u001b[39m\u001b[39m0.0\u001b[39m)\n",
      "File \u001b[0;32m~/miniforge3/envs/control/lib/python3.8/site-packages/jax/_src/numpy/linalg.py:396\u001b[0m, in \u001b[0;36meigh\u001b[0;34m(***failed resolving arguments***)\u001b[0m\n\u001b[1;32m    395\u001b[0m a, \u001b[39m=\u001b[39m promote_dtypes_inexact(jnp\u001b[39m.\u001b[39masarray(a))\n\u001b[0;32m--> 396\u001b[0m v, w \u001b[39m=\u001b[39m lax_linalg\u001b[39m.\u001b[39meigh(a, lower\u001b[39m=\u001b[39mlower, symmetrize_input\u001b[39m=\u001b[39msymmetrize_input)\n\u001b[1;32m    397\u001b[0m \u001b[39mreturn\u001b[39;00m w, v\n",
      "\u001b[0;31mJaxStackTraceBeforeTransformation\u001b[0m: NotImplementedError: MLIR translation rule for primitive 'eigh' not found for platform METAL\n\nThe preceding stack trace is the source of the JAX operation that, once transformed by JAX, triggered the following exception.\n\n--------------------",
      "\nThe above exception was the direct cause of the following exception:\n",
      "\u001b[0;31mNotImplementedError\u001b[0m                       Traceback (most recent call last)",
      "\u001b[1;32m/Users/mganeshkumar/Library/CloudStorage/OneDrive-HarvardUniversity/Code/ActorCritic_Dynamics/blake_2023.ipynb Cell 16\u001b[0m line \u001b[0;36m5\n\u001b[1;32m      <a href='vscode-notebook-cell:/Users/mganeshkumar/Library/CloudStorage/OneDrive-HarvardUniversity/Code/ActorCritic_Dynamics/blake_2023.ipynb#X21sZmlsZQ%3D%3D?line=2'>3</a>\u001b[0m Sigma_emp \u001b[39m=\u001b[39m jnp\u001b[39m.\u001b[39marray(Sigma_emp, dtype\u001b[39m=\u001b[39m jnp\u001b[39m.\u001b[39mfloat32)\n\u001b[1;32m      <a href='vscode-notebook-cell:/Users/mganeshkumar/Library/CloudStorage/OneDrive-HarvardUniversity/Code/ActorCritic_Dynamics/blake_2023.ipynb#X21sZmlsZQ%3D%3D?line=3'>4</a>\u001b[0m Sigma_flat \u001b[39m=\u001b[39m Sigma_emp\u001b[39m.\u001b[39mreshape((Sigma_emp\u001b[39m.\u001b[39mshape[\u001b[39m0\u001b[39m]\u001b[39m*\u001b[39mSigma_emp\u001b[39m.\u001b[39mshape[\u001b[39m1\u001b[39m], Sigma_emp\u001b[39m.\u001b[39mshape[\u001b[39m0\u001b[39m]\u001b[39m*\u001b[39mSigma_emp\u001b[39m.\u001b[39mshape[\u001b[39m1\u001b[39m]))\n\u001b[0;32m----> <a href='vscode-notebook-cell:/Users/mganeshkumar/Library/CloudStorage/OneDrive-HarvardUniversity/Code/ActorCritic_Dynamics/blake_2023.ipynb#X21sZmlsZQ%3D%3D?line=4'>5</a>\u001b[0m sqrt_Sigma \u001b[39m=\u001b[39m sqrt_mat(Sigma_flat)\n\u001b[1;32m      <a href='vscode-notebook-cell:/Users/mganeshkumar/Library/CloudStorage/OneDrive-HarvardUniversity/Code/ActorCritic_Dynamics/blake_2023.ipynb#X21sZmlsZQ%3D%3D?line=5'>6</a>\u001b[0m sqrt_Sigma\u001b[39m=\u001b[39m sqrt_Sigma\u001b[39m.\u001b[39mreshape(Sigma_emp\u001b[39m.\u001b[39mshape)\n\u001b[1;32m      <a href='vscode-notebook-cell:/Users/mganeshkumar/Library/CloudStorage/OneDrive-HarvardUniversity/Code/ActorCritic_Dynamics/blake_2023.ipynb#X21sZmlsZQ%3D%3D?line=6'>7</a>\u001b[0m \u001b[39mprint\u001b[39m(Sigma_emp\u001b[39m.\u001b[39mshape)\n",
      "\u001b[1;32m/Users/mganeshkumar/Library/CloudStorage/OneDrive-HarvardUniversity/Code/ActorCritic_Dynamics/blake_2023.ipynb Cell 16\u001b[0m line \u001b[0;36m2\n\u001b[1;32m      <a href='vscode-notebook-cell:/Users/mganeshkumar/Library/CloudStorage/OneDrive-HarvardUniversity/Code/ActorCritic_Dynamics/blake_2023.ipynb#X21sZmlsZQ%3D%3D?line=0'>1</a>\u001b[0m \u001b[39mdef\u001b[39;00m \u001b[39msqrt_mat\u001b[39m(A):\n\u001b[0;32m----> <a href='vscode-notebook-cell:/Users/mganeshkumar/Library/CloudStorage/OneDrive-HarvardUniversity/Code/ActorCritic_Dynamics/blake_2023.ipynb#X21sZmlsZQ%3D%3D?line=1'>2</a>\u001b[0m     s, v \u001b[39m=\u001b[39m jnp\u001b[39m.\u001b[39;49mlinalg\u001b[39m.\u001b[39;49meigh(A)\n\u001b[1;32m      <a href='vscode-notebook-cell:/Users/mganeshkumar/Library/CloudStorage/OneDrive-HarvardUniversity/Code/ActorCritic_Dynamics/blake_2023.ipynb#X21sZmlsZQ%3D%3D?line=2'>3</a>\u001b[0m     s_sqrt \u001b[39m=\u001b[39m s\u001b[39m*\u001b[39m\u001b[39m*\u001b[39m(\u001b[39m0.5\u001b[39m) \u001b[39m*\u001b[39m (s\u001b[39m>\u001b[39m\u001b[39m0.0\u001b[39m)\n\u001b[1;32m      <a href='vscode-notebook-cell:/Users/mganeshkumar/Library/CloudStorage/OneDrive-HarvardUniversity/Code/ActorCritic_Dynamics/blake_2023.ipynb#X21sZmlsZQ%3D%3D?line=3'>4</a>\u001b[0m     \u001b[39mreturn\u001b[39;00m v \u001b[39m@\u001b[39m jnp\u001b[39m.\u001b[39mdiag(s_sqrt) \u001b[39m@\u001b[39m v\u001b[39m.\u001b[39mT\n",
      "    \u001b[0;31m[... skipping hidden 16 frame]\u001b[0m\n",
      "File \u001b[0;32m~/miniforge3/envs/control/lib/python3.8/site-packages/jax/_src/interpreters/mlir.py:1098\u001b[0m, in \u001b[0;36mjaxpr_subcomp\u001b[0;34m(ctx, jaxpr, tokens, consts, dim_var_values, *args)\u001b[0m\n\u001b[1;32m   1096\u001b[0m   rule \u001b[39m=\u001b[39m xla_fallback_lowering(eqn\u001b[39m.\u001b[39mprimitive)\n\u001b[1;32m   1097\u001b[0m \u001b[39melse\u001b[39;00m:\n\u001b[0;32m-> 1098\u001b[0m   \u001b[39mraise\u001b[39;00m \u001b[39mNotImplementedError\u001b[39;00m(\n\u001b[1;32m   1099\u001b[0m       \u001b[39mf\u001b[39m\u001b[39m\"\u001b[39m\u001b[39mMLIR translation rule for primitive \u001b[39m\u001b[39m'\u001b[39m\u001b[39m{\u001b[39;00meqn\u001b[39m.\u001b[39mprimitive\u001b[39m.\u001b[39mname\u001b[39m}\u001b[39;00m\u001b[39m'\u001b[39m\u001b[39m not \u001b[39m\u001b[39m\"\u001b[39m\n\u001b[1;32m   1100\u001b[0m       \u001b[39mf\u001b[39m\u001b[39m\"\u001b[39m\u001b[39mfound for platform \u001b[39m\u001b[39m{\u001b[39;00mctx\u001b[39m.\u001b[39mplatform\u001b[39m}\u001b[39;00m\u001b[39m\"\u001b[39m)\n\u001b[1;32m   1102\u001b[0m eqn_ctx \u001b[39m=\u001b[39m ctx\u001b[39m.\u001b[39mreplace(name_stack\u001b[39m=\u001b[39msource_info\u001b[39m.\u001b[39mname_stack)\n\u001b[1;32m   1103\u001b[0m effects \u001b[39m=\u001b[39m \u001b[39mlist\u001b[39m(effects_lib\u001b[39m.\u001b[39mordered_effects\u001b[39m.\u001b[39mfilter_in(eqn\u001b[39m.\u001b[39meffects))\n",
      "\u001b[0;31mNotImplementedError\u001b[0m: MLIR translation rule for primitive 'eigh' not found for platform METAL"
     ]
    }
   ],
   "source": [
    "Sigma_emp = 1/Psi_visits.shape[1] * jnp.einsum('ijk,ljm->iklm', Psi_visits, Psi_visits)\n",
    "print(Sigma_emp.dtype)\n",
    "Sigma_emp = jnp.array(Sigma_emp, dtype= jnp.float32)\n",
    "Sigma_flat = Sigma_emp.reshape((Sigma_emp.shape[0]*Sigma_emp.shape[1], Sigma_emp.shape[0]*Sigma_emp.shape[1]))\n",
    "sqrt_Sigma = sqrt_mat(Sigma_flat)\n",
    "sqrt_Sigma= sqrt_Sigma.reshape(Sigma_emp.shape)\n",
    "print(Sigma_emp.shape)\n",
    "print(Sigma_flat.shape)\n",
    "\n",
    "print(\"symmetry check\")\n",
    "print( jnp.amax( ( Sigma_flat.T - Sigma_flat)**2 ) )"
   ]
  },
  {
   "cell_type": "code",
   "execution_count": null,
   "metadata": {},
   "outputs": [],
   "source": [
    "A = jnp.ones((10,10), dtype = jnp.float64)\n",
    "sqrt_A = sqrt_mat(A)\n"
   ]
  },
  {
   "cell_type": "code",
   "execution_count": null,
   "metadata": {},
   "outputs": [],
   "source": [
    "plt.imshow( Sigma_emp[5,:,5,:],cmap = 'coolwarm')\n",
    "plt.show()"
   ]
  },
  {
   "cell_type": "code",
   "execution_count": null,
   "metadata": {},
   "outputs": [],
   "source": [
    "# train with Sigma_emp and compare to training with actual sampling\n",
    "# R is reward function\n",
    "def TD_MDP(eta, gamma, R, batch = 10, num_steps = 500, sigma = 0.0):\n",
    "\n",
    "    # compute wR, wV\n",
    "    \n",
    "    rvec = R.reshape((R.shape[0]*R.shape[1]))\n",
    "    psi_vec = Psi.reshape((Psi.shape[0],Psi.shape[1]*Psi.shape[2]))\n",
    "    \n",
    "    # solve Psi w = r\n",
    "    u, s, v = jnp.linalg.svd(psi_vec)\n",
    "    print(\"max sv of Psi\")\n",
    "    print(jnp.amax(s))\n",
    "    s_inv = (s>0.0) * (s+1e-6)**(-1.0)\n",
    "    wR = u @ jnp.diag(s_inv) @ v @ rvec\n",
    "    \n",
    "    \n",
    "    Sigma_bar = jnp.einsum('ijkj->ik', Sigma_emp[:,:-1,:,:-1])\n",
    "    Sigma_bar_shift = jnp.einsum('ijkj->ik', Sigma_emp[:,:-1,:,1:])\n",
    "    wV = jnp.linalg.solve(Sigma_bar - gamma * Sigma_bar_shift + 1e-8*jnp.eye(Sigma_bar.shape[0]), Sigma_bar @ wR)\n",
    "    \n",
    "    print(jnp.mean(wV**2))\n",
    "    sample_nums = jnp.arange(batch)\n",
    "    w = jnp.zeros(wR.shape[0])\n",
    "    \n",
    "    print(w.shape)\n",
    "    print(wR.shape)\n",
    "    print(wV.shape)\n",
    "    print(Psi.shape)\n",
    "    \n",
    "    losses = []\n",
    "    for n in range(num_steps):   \n",
    "        loss = jnp.dot( (w-wV), Sigma_bar @ (w-wV) )\n",
    "        losses += [loss]\n",
    "\n",
    "        all_coords = vmap(get_coords)(sample_nums)\n",
    "        sample_nums += jnp.ones(sample_nums.shape[0], dtype=jnp.int32) * sample_nums.shape[0]\n",
    "        \n",
    "        Psi_vis = Psi[:,all_coords[0],all_coords[1]] # N x B x T\n",
    "        Psi0 = Psi_vis[:,:,:-1]\n",
    "        Psi1 = Psi_vis[:,:,1:]\n",
    "        \n",
    "        RPE = jnp.einsum('ijk,i->jk', Psi0 ,wR-w) + gamma * jnp.einsum('ijk,i->jk', Psi1 ,w) + sigma * random.normal(random.PRNGKey(n), (Psi0.shape[1],Psi0.shape[2]))\n",
    "        w = w + eta/batch * jnp.einsum('ijk,jk->i', Psi0, RPE)\n",
    "    return losses\n"
   ]
  },
  {
   "cell_type": "code",
   "execution_count": null,
   "metadata": {},
   "outputs": [],
   "source": [
    "def TD_Gauss(eta, gamma, R, batch = 10, num_steps = 500, sigma = 0.0):\n",
    "\n",
    "    # compute wR, wV\n",
    "    \n",
    "    rvec = R.reshape((R.shape[0]*R.shape[1]))\n",
    "    psi_vec = Psi.reshape((Psi.shape[0],Psi.shape[1]*Psi.shape[2]))\n",
    "    \n",
    "    # solve Psi w = r\n",
    "    u, s, v = jnp.linalg.svd(psi_vec)\n",
    "    s_inv = (s>0.0) * (s+1e-6)**(-1.0)\n",
    "    wR = u @ jnp.diag(s_inv) @ v @ rvec\n",
    "    \n",
    "    \n",
    "    Sigma_bar = jnp.einsum('ijkj->ik', Sigma_emp[:,:-1,:,:-1])\n",
    "    Sigma_bar_shift = jnp.einsum('ijkj->ik', Sigma_emp[:,:-1,:,1:])\n",
    "    wV = jnp.linalg.solve(Sigma_bar - gamma * Sigma_bar_shift + 1e-8*jnp.eye(Sigma_bar.shape[0]), Sigma_bar @ wR)\n",
    "    \n",
    "    sample_nums = jnp.arange(batch)\n",
    "    w = jnp.zeros(wR.shape[0])\n",
    "        \n",
    "    key = random.PRNGKey(0)\n",
    "    losses = []\n",
    "    \n",
    "    for n in range(num_steps):   \n",
    "        loss = jnp.dot( (w-wV), Sigma_bar @ (w-wV) )\n",
    "        losses += [loss]\n",
    "        Z = random.normal(key,(N,T,batch)) # \n",
    "        Psi_vis = jnp.einsum('ijkl,klm->imj', sqrt_Sigma, Z) # N x B x T\n",
    "\n",
    "        key, _ = random.split(key)\n",
    "        \n",
    "        #all_coords = vmap(get_coords)(sample_nums)\n",
    "        #sample_nums += jnp.ones(sample_nums.shape[0], dtype=jnp.int32) * sample_nums.shape[0]\n",
    "        \n",
    "        Psi0 = Psi_vis[:,:,:-1]\n",
    "        Psi1 = Psi_vis[:,:,1:]\n",
    "        \n",
    "        RPE = jnp.einsum('ijk,i->jk', Psi0 ,wR-w) + gamma * jnp.einsum('ijk,i->jk', Psi1 ,w) + sigma * random.normal(random.PRNGKey(n), (Psi0.shape[1],Psi0.shape[2]))\n",
    "        w = w + eta/batch * jnp.einsum('ijk,jk->i', Psi0, RPE)\n",
    "        \n",
    "    return losses"
   ]
  },
  {
   "cell_type": "code",
   "execution_count": null,
   "metadata": {},
   "outputs": [],
   "source": [
    "def TD_theory_MDP(eta, gamma, R, batch = 10, num_steps = 500, sigma = 0.0):\n",
    "    \n",
    "    \n",
    "    rvec = R.reshape((R.shape[0]*R.shape[1]))\n",
    "    psi_vec = Psi.reshape((Psi.shape[0],Psi.shape[1]*Psi.shape[2]))\n",
    "    \n",
    "    # solve Psi w = r\n",
    "    u, s, v = jnp.linalg.svd(psi_vec)\n",
    "    s_inv = (s>0.0) * (s+1e-6)**(-1.0)\n",
    "    wR = u @ jnp.diag(s_inv) @ v @ rvec\n",
    "    \n",
    "    \n",
    "    Sigma_bar = jnp.einsum('ijkj->ik', Sigma_emp[:,:-1,:,:-1])\n",
    "    \n",
    "    print(\"minimum eigenvalue of Sigma_bar\")\n",
    "    print(jnp.amin(jnp.linalg.eigvalsh(Sigma_bar)))\n",
    "    Sigma_bar_shift = jnp.einsum('ijkj->ik', Sigma_emp[:,:-1,:,1:])\n",
    "    wV = jnp.linalg.solve(Sigma_bar - gamma * Sigma_bar_shift + 1e-8*jnp.eye(Sigma_bar.shape[0]), Sigma_bar @ wR)\n",
    "    \n",
    "    N = wV.shape[0]\n",
    "    \n",
    "    # average weight\n",
    "    wbar = jnp.zeros(N)\n",
    "\n",
    "    # error covariance\n",
    "    M = jnp.outer(wV,wV)\n",
    "    \n",
    "    A = jnp.eye(N) - eta * ( Sigma_bar - gamma*Sigma_bar_shift )\n",
    "    \n",
    "    Sigma0 = Sigma_emp[:,:-1,:,:-1]\n",
    "    Sigma1 = Sigma_emp[:,:-1,:,1:]\n",
    "    Sigma2 = Sigma_emp[:,1:,:,1:]\n",
    "    \n",
    "    losses = [ ]\n",
    "    for n in range(num_steps):\n",
    "        \n",
    "        losses += [ jnp.sum( M * Sigma_bar ) ]\n",
    "        ww = M + jnp.outer(wbar-wV,wV) + jnp.outer(wV, wbar-wV) + jnp.outer(wV,wV)\n",
    "        w_wR_sqr = ww - jnp.outer(wbar,wR) - jnp.outer(wR,wbar) + jnp.outer(wR,wR)\n",
    "        w_wR_cross = jnp.outer(wR,wbar) - ww\n",
    "        \n",
    "        \n",
    "        \n",
    "        Q = jnp.einsum('ijkl,ik->jl', Sigma0, w_wR_sqr) # calculate\n",
    "        Q += gamma * jnp.einsum('ijkl,ik->jl', Sigma1, w_wR_cross) + gamma * jnp.einsum('ijkl,ik->lj', Sigma1, w_wR_cross)\n",
    "        Q += gamma**2 * jnp.einsum('ijkl,ik->jl', Sigma2, ww)\n",
    "        Q += sigma**2 * jnp.eye(Q.shape[0])\n",
    "        \n",
    "        M = A @ M @ A.T + eta**2 / batch * jnp.einsum('ijkl,jl->ik', Sigma0, Q)\n",
    "        wbar = wbar + eta * ( Sigma_bar - gamma*Sigma_bar_shift ) @ (wV - wbar)\n",
    "        \n",
    "    return losses"
   ]
  },
  {
   "cell_type": "code",
   "execution_count": null,
   "metadata": {},
   "outputs": [],
   "source": [
    "\n",
    "eta = 0.01\n",
    "gamma = 0.8\n",
    "losses_MDP = TD_MDP(eta, gamma, R)\n",
    "losses_Gauss = TD_Gauss(eta, gamma, R)\n",
    "losses_th = TD_theory_MDP(eta, gamma, R)"
   ]
  },
  {
   "cell_type": "code",
   "execution_count": null,
   "metadata": {},
   "outputs": [],
   "source": [
    "plt.rcParams.update({'font.size': 14})\n",
    "\n",
    "length = len(losses_MDP)\n",
    "plt.loglog(np.linspace(1,length,length), np.array(losses_MDP) / losses_MDP[0], label = 'MDP')\n",
    "plt.loglog(np.linspace(1,length,length), np.array(losses_Gauss) / losses_Gauss[0], '--', label = 'Gaussian')\n",
    "plt.loglog(np.linspace(1,length,length), np.array(losses_th) / losses_th[0], '--', color = 'black', label = 'Theory')\n",
    "plt.xlabel('Steps', fontsize = 20)\n",
    "plt.ylabel('Value Error',fontsize = 20)\n",
    "plt.legend()\n",
    "plt.tight_layout()\n",
    "#plt.savefig('figures/value_err_2d_explore_mdp_gaussequiv.pdf')\n",
    "plt.show()"
   ]
  }
 ],
 "metadata": {
  "kernelspec": {
   "display_name": "control",
   "language": "python",
   "name": "python3"
  },
  "language_info": {
   "codemirror_mode": {
    "name": "ipython",
    "version": 3
   },
   "file_extension": ".py",
   "mimetype": "text/x-python",
   "name": "python",
   "nbconvert_exporter": "python",
   "pygments_lexer": "ipython3",
   "version": "3.8.18"
  }
 },
 "nbformat": 4,
 "nbformat_minor": 2
}
